{
 "cells": [
  {
   "cell_type": "markdown",
   "metadata": {},
   "source": [
    "### Import the relevant libraries"
   ]
  },
  {
   "cell_type": "code",
   "execution_count": 1,
   "metadata": {},
   "outputs": [
    {
     "name": "stdout",
     "output_type": "stream",
     "text": [
      "WARNING:tensorflow:From C:\\Users\\mujtahidmachinlearning\\anaconda\\lib\\site-packages\\tensorflow\\python\\compat\\v2_compat.py:96: disable_resource_variables (from tensorflow.python.ops.variable_scope) is deprecated and will be removed in a future version.\n",
      "Instructions for updating:\n",
      "non-resource variables are not supported in the long term\n"
     ]
    }
   ],
   "source": [
    "# We must always import the relevant libraries for our problem at hand. NumPy and TensorFlow are required for this example.\n",
    "import numpy as np\n",
    "import matplotlib.pyplot as plt\n",
    "import tensorflow.compat.v1 as tf\n",
    "tf.disable_v2_behavior() "
   ]
  },
  {
   "cell_type": "markdown",
   "metadata": {},
   "source": [
    "### Data generation\n",
    "\n",
    "We generate data using the exact same logic and code as the example from the previous notebook. The only difference now is that we save it to an npz file. Npz is numpy's file type which allows you to save numpy arrays into a single .npz file. We introduce this change because in machine learning most often: \n",
    "\n",
    "* you are given some data (csv, database, etc.)\n",
    "* you preprocess it into a desired format (later on we will see methods for preprocesing)\n",
    "* you save it into npz files (if you're working in Python) to access later\n",
    "\n",
    "Nothing to worry about - this is literally saving your NumPy arrays into a file that you can later access, nothing more."
   ]
  },
  {
   "cell_type": "code",
   "execution_count": 2,
   "metadata": {},
   "outputs": [],
   "source": [
    "# First, we should declare a variable containing the size of the training set we want to generate.\n",
    "observations = 10000\n",
    "\n",
    "# We will work with two variables as inputs. You can think about them as x1 and x2 in our previous examples.\n",
    "# We have picked x and z, since it is easier to differentiate them.\n",
    "# We generate them randomly, drawing from an uniform distribution. There are 3 arguments of this method (low, high, size).\n",
    "# The size of xs and zs is observations x 1. In this case: 1000 x 1.\n",
    "xs = np.random.uniform(low=-10, high=10, size=(observations,1))\n",
    "zs = np.random.uniform(-10, 10, (observations,1))\n",
    "\n",
    "# Combine the two dimensions of the input into one input matrix. \n",
    "# This is the X matrix from the linear model y = x*w + b.\n",
    "# column_stack is a Numpy method, which combines two matrices (vectors) into one.\n",
    "generated_inputs = np.column_stack((xs,zs))\n",
    "\n",
    "# We add a random small noise to the function i.e. f(x,z) = 2x - 3z + 5 + <small noise>\n",
    "noise = np.random.uniform(-1, 1, (observations,1))\n",
    "\n",
    "# Produce the targets according to our f(x,z) = 2x - 3z + 5 + noise definition.\n",
    "# In this way, we are basically saying: the weights should be 2 and -3, while the bias is 5.\n",
    "generated_targets = 2*xs - 3*zs + 5 + noise\n",
    "\n",
    "# save into an npz file called \"TF_intro\"\n",
    "np.savez('TF_intro', inputs=generated_inputs, targets=generated_targets)"
   ]
  },
  {
   "cell_type": "markdown",
   "metadata": {},
   "source": [
    "## Solving with TensorFlow\n",
    "\n",
    "<i/>Note: This intro is just the basics of TensorFlow which has way more capabilities and depth than that.<i>"
   ]
  },
  {
   "cell_type": "code",
   "execution_count": 3,
   "metadata": {},
   "outputs": [],
   "source": [
    "# The shape of the data we've prepared above. Think about it as: number of inputs, number of outputs.\n",
    "input_size = 2\n",
    "output_size = 1"
   ]
  },
  {
   "cell_type": "markdown",
   "metadata": {},
   "source": [
    "### Outlining the model"
   ]
  },
  {
   "cell_type": "code",
   "execution_count": 4,
   "metadata": {},
   "outputs": [],
   "source": [
    "# Here we define a basic TensorFlow object - the placeholder.\n",
    "# As before, we will feed the inputs and targets to the model. \n",
    "# In the TensorFlow context, we feed the data to the model THROUGH the placeholders. \n",
    "# The particular inputs and targets are contained in our .npz file.\n",
    "\n",
    "# The first None parameter of the placeholders' shape means that\n",
    "# this dimension could be of any length. That's since we are mainly interested in\n",
    "# the input size, i.e. how many input variables we have and not the number of samples (observations)\n",
    "# The number of input variables changes the MODEL itself, while the number of observations doesn't.\n",
    "# Remember that the weights and biases were independent of the number of samples, so the MODEL is independent.\n",
    "# Important: NO calculation happens at this point.\n",
    "inputs = tf.placeholder(tf.float32, [None, input_size])\n",
    "targets = tf.placeholder(tf.float32, [None, output_size])\n",
    "\n",
    "# As before, we define our weights and biases.\n",
    "# They are the other basic TensorFlow object - a variable.\n",
    "# We feed data into placeholders and they have a different value for each iteration\n",
    "# Variables, however, preserve their values across iterations.\n",
    "# To sum up, data goes into placeholders; parameters go into variables.\n",
    "\n",
    "# We use the same random uniform initialization in [-0.1,0.1] as in the minimal example but using the TF syntax\n",
    "# Important: NO calculation happens at this point.\n",
    "weights = tf.Variable(tf.random_uniform([input_size, output_size], minval=-0.1, maxval=0.1))\n",
    "biases = tf.Variable(tf.random_uniform([output_size], minval=-0.1, maxval=0.1))\n",
    "\n",
    "# We get the outputs following our linear combination: y = xw + b\n",
    "# Important: NO calculation happens at this point.\n",
    "# This line simply tells TensorFlow what rule to apply when we feed in the training data (below).\n",
    "outputs = tf.matmul(inputs, weights) + biases"
   ]
  },
  {
   "cell_type": "markdown",
   "metadata": {},
   "source": [
    "### Choosing the objective function and the optimization method"
   ]
  },
  {
   "cell_type": "code",
   "execution_count": 5,
   "metadata": {},
   "outputs": [],
   "source": [
    "# Again, we use a loss function, this time readily available, though.\n",
    "# mean_squared_error is the scaled L2-norm (per observation)\n",
    "# We divide by two to follow our earlier definitions. That doesn't really change anything.\n",
    "mean_loss = tf.losses.mean_squared_error(labels=targets, predictions=outputs) / 2.\n",
    "\n",
    "# Note that there also exists a function tf.nn.l2_loss. \n",
    "# tf.nn.l2_loss calculates the loss over all samples, instead of the average loss per sample.\n",
    "# Practically it's the same, a matter of preference.\n",
    "# The difference would be a smaller or larger learning rate to achieve the exact same result.\n",
    "\n",
    "# Instead of implementing Gradient Descent on our own, in TensorFlow we can simply state\n",
    "# \"Minimize the mean loss by using Gradient Descent with a given learning rate\"\n",
    "# Simple as that.\n",
    "#optimize = tf.train.GradientDescentOptimizer(learning_rate=0.01).minimize(mean_loss)\n",
    "optimize = tf.losses.huber_loss()"
   ]
  },
  {
   "cell_type": "markdown",
   "metadata": {},
   "source": [
    "### Prepare for execution"
   ]
  },
  {
   "cell_type": "code",
   "execution_count": 6,
   "metadata": {},
   "outputs": [],
   "source": [
    "# So far we've defined the placeholders, variables, the loss function and the optimization method.\n",
    "# We have the structure for training, but we haven't trained anything yet.\n",
    "# The actual training (and subsequent implementation of the ML algorithm) happens inside sessions.\n",
    "sess = tf.InteractiveSession()"
   ]
  },
  {
   "cell_type": "markdown",
   "metadata": {},
   "source": [
    "### Initializing variables"
   ]
  },
  {
   "cell_type": "code",
   "execution_count": 7,
   "metadata": {},
   "outputs": [],
   "source": [
    "# Before we start training, we need to initialize our variables: the weights and biases.\n",
    "# There is a specific method for initializing called global_variables_initializer().\n",
    "# Let's declare a variable \"initializer\" that will do that.\n",
    "initializer = tf.global_variables_initializer()\n",
    "\n",
    "# Time to initialize the variables.\n",
    "sess.run(initializer)"
   ]
  },
  {
   "cell_type": "markdown",
   "metadata": {},
   "source": [
    "### Loading training data"
   ]
  },
  {
   "cell_type": "code",
   "execution_count": 8,
   "metadata": {},
   "outputs": [],
   "source": [
    "# We finally load the training data we created above.\n",
    "training_data = np.load('TF_intro.npz')"
   ]
  },
  {
   "cell_type": "markdown",
   "metadata": {},
   "source": [
    "### Learning"
   ]
  },
  {
   "cell_type": "code",
   "execution_count": 9,
   "metadata": {},
   "outputs": [
    {
     "name": "stdout",
     "output_type": "stream",
     "text": [
      "219.06822\n",
      "103.95779\n",
      "52.83817\n",
      "30.062872\n",
      "19.844301\n",
      "15.190017\n",
      "13.002919\n",
      "11.911156\n",
      "11.307029\n",
      "10.921313\n",
      "10.634699\n",
      "10.394289\n",
      "10.176607\n",
      "9.971202\n",
      "9.773402\n",
      "9.581108\n",
      "9.393322\n",
      "9.209581\n",
      "9.029628\n",
      "8.853315\n",
      "8.680536\n",
      "8.511208\n",
      "8.34525\n",
      "8.182598\n",
      "8.023185\n",
      "7.866939\n",
      "7.7138023\n",
      "7.5637126\n",
      "7.416608\n",
      "7.272429\n",
      "7.131118\n",
      "6.9926195\n",
      "6.856875\n",
      "6.7238283\n",
      "6.5934296\n",
      "6.465626\n",
      "6.340364\n",
      "6.217594\n",
      "6.097266\n",
      "5.979332\n",
      "5.8637424\n",
      "5.750455\n",
      "5.639418\n",
      "5.53059\n",
      "5.4239264\n",
      "5.3193855\n",
      "5.216924\n",
      "5.1165\n",
      "5.018076\n",
      "4.921608\n",
      "4.8270593\n",
      "4.734392\n",
      "4.6435657\n",
      "4.5545473\n",
      "4.467301\n",
      "4.3817883\n",
      "4.297978\n",
      "4.2158337\n",
      "4.135322\n",
      "4.0564156\n",
      "3.979075\n",
      "3.903275\n",
      "3.8289824\n",
      "3.756168\n",
      "3.6848009\n",
      "3.6148546\n",
      "3.5462992\n",
      "3.4791071\n",
      "3.4132516\n",
      "3.348707\n",
      "3.2854452\n",
      "3.2234418\n",
      "3.1626728\n",
      "3.1031113\n",
      "3.044736\n",
      "2.9875212\n",
      "2.9314435\n",
      "2.876482\n",
      "2.822615\n",
      "2.7698169\n",
      "2.7180707\n",
      "2.667355\n",
      "2.617646\n",
      "2.5689273\n",
      "2.5211759\n",
      "2.4743762\n",
      "2.4285066\n",
      "2.3835487\n",
      "2.3394864\n",
      "2.2963\n",
      "2.2539728\n",
      "2.2124865\n",
      "2.1718268\n",
      "2.131976\n",
      "2.0929172\n",
      "2.054635\n",
      "2.0171149\n",
      "1.9803406\n",
      "1.9442996\n",
      "1.9089738\n"
     ]
    }
   ],
   "source": [
    "# As in the previous example, we train for a set number (100) of iterations over the dataset\n",
    "for i in range(100):\n",
    "    # This expression is a bit more complex but you'll learn to appreciate its power and\n",
    "    # flexibility in the following lessons.\n",
    "    # sess.run is the session's function to actually do something, anything.\n",
    "    # Above, we used it to initialize the variables.\n",
    "    # Here, we use it to feed the training data to the computational graph, defined by the feed_dict parameter\n",
    "    # and run operations (already defined above), given as the first parameter (optimize, mean_loss).\n",
    "    \n",
    "    # So the line of code means: \"Run the optimize and mean_loss operations by filling the placeholder\n",
    "    # objects with data from the feed_dict parameter\".\n",
    "    # Curr_loss catches the output from the two operations.\n",
    "    # Using \"_,\" we omit the first one, because optimize has no output (it's always \"None\"). \n",
    "    # The second one catches the value of the mean_loss for the current run, thus curr_loss actually = mean_loss \n",
    "    _, curr_loss = sess.run([optimize, mean_loss], \n",
    "        feed_dict={inputs: training_data['inputs'], targets: training_data['targets']})\n",
    "    \n",
    "    # We print the current average loss\n",
    "    print(curr_loss)"
   ]
  },
  {
   "cell_type": "markdown",
   "metadata": {},
   "source": [
    "### Plotting the data"
   ]
  },
  {
   "cell_type": "code",
   "execution_count": 10,
   "metadata": {},
   "outputs": [
    {
     "data": {
      "image/png": "[encoded data removed]",
      "text/plain": [
       "<Figure size 432x288 with 1 Axes>"
      ]
     },
     "metadata": {
      "needs_background": "light"
     },
     "output_type": "display_data"
    }
   ],
   "source": [
    "# As before, we want to plot the last output vs targets after the training is supposedly over.\n",
    "# Same notation as above but this time we don't want to train anymore, and we are not interested\n",
    "# in the loss function value.\n",
    "# What we want, however, are the outputs. \n",
    "# Therefore, instead of the optimize and mean_loss operations, we pass the \"outputs\" as the only parameter.\n",
    "out = sess.run([outputs], \n",
    "               feed_dict={inputs: training_data['inputs']})\n",
    "# The model is optimized, so the outputs are calculated based on the last form of the model\n",
    "\n",
    "# We have to np.squeeze the arrays in order to fit them to what the plot function expects.\n",
    "# Doesn't change anything as we cut dimensions of size 1 - just a technicality.\n",
    "plt.plot(np.squeeze(out), np.squeeze(training_data['targets']))\n",
    "plt.xlabel('outputs')\n",
    "plt.ylabel('targets')\n",
    "plt.show()\n",
    "        \n",
    "# Voila - what you see should be exactly the same as in the previous notebook!\n",
    "# You probably don't see the point of TensorFlow now - it took us more lines of code\n",
    "# to achieve this simple result. However, once we go deeper in the next chapter,\n",
    "# TensorFlow will save us hundreds of lines of code."
   ]
  },
  {
   "cell_type": "code",
   "execution_count": null,
   "metadata": {},
   "outputs": [],
   "source": []
  }
 ],
 "metadata": {
  "kernelspec": {
   "display_name": "Python 3",
   "language": "python",
   "name": "python3"
  },
  "language_info": {
   "codemirror_mode": {
    "name": "ipython",
    "version": 3
   },
   "file_extension": ".py",
   "mimetype": "text/x-python",
   "name": "python",
   "nbconvert_exporter": "python",
   "pygments_lexer": "ipython3",
   "version": "3.7.4"
  }
 },
 "nbformat": 4,
 "nbformat_minor": 2
}
